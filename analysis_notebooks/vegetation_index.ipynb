{
 "cells": [
  {
   "cell_type": "markdown",
   "source": [
    "## **Analysis 1: Vegetation Index**\r\n",
    "\r\n",
    "In this script, we implement a form of simple vegetation index to extract the green regions from a given image. \r\n",
    "The aim is to be able to count the number of green regions inside each image, for each location."
   ],
   "metadata": {}
  },
  {
   "cell_type": "code",
   "execution_count": 1,
   "source": [
    "# import required libraries\r\n",
    "import cv2\r\n",
    "import numpy as np\r\n",
    "import pandas as pd \r\n",
    "import matplotlib.pyplot as plt"
   ],
   "outputs": [],
   "metadata": {}
  },
  {
   "cell_type": "code",
   "execution_count": 2,
   "source": [
    "# try with a first image\r\n",
    "image_path = r\"E:\\Projects\\nasa_space_challenge\\data\\drone_videos_mrhabib\\images\\image2.png\"\r\n",
    "\r\n",
    "# read the image\r\n",
    "image2 = cv2.imread(image_path)\r\n",
    "\r\n",
    "cv2.imshow(\"image2\", image2)\r\n",
    "cv2.waitKey(0)\r\n",
    "cv2.destroyAllWindows()"
   ],
   "outputs": [],
   "metadata": {}
  },
  {
   "cell_type": "code",
   "execution_count": 10,
   "source": [
    "# take all green stuff in the image\r\n",
    "## convert to hsv\r\n",
    "hsv = cv2.cvtColor(image2, cv2.COLOR_BGR2HSV)\r\n",
    "\r\n",
    "## mask of green (36,25,25) ~ (86, 255,255)\r\n",
    "# mask = cv2.inRange(hsv, (36, 25, 25), (86, 255,255))\r\n",
    "mask = cv2.inRange(hsv, (36, 25, 25), (70, 255,255))\r\n",
    "\r\n",
    "## slice the green\r\n",
    "imask = mask > 0\r\n",
    "green = np.zeros_like(image2, np.uint8)\r\n",
    "green[imask] = image2[imask]"
   ],
   "outputs": [],
   "metadata": {}
  },
  {
   "cell_type": "code",
   "execution_count": 11,
   "source": [
    "cv2.imshow(\"image2 - sliced green\", green)\r\n",
    "cv2.waitKey(0)\r\n",
    "cv2.destroyAllWindows()"
   ],
   "outputs": [],
   "metadata": {}
  },
  {
   "cell_type": "code",
   "execution_count": 8,
   "source": [],
   "outputs": [],
   "metadata": {}
  },
  {
   "cell_type": "code",
   "execution_count": 9,
   "source": [
    "cv2.imshow(\"image2 - sliced green\", green)\r\n",
    "cv2.waitKey(0)\r\n",
    "cv2.destroyAllWindows()"
   ],
   "outputs": [],
   "metadata": {}
  },
  {
   "cell_type": "code",
   "execution_count": 20,
   "source": [
    "green_bw = cv2.cvtColor(green, cv2.COLOR_BGR2GRAY)\r\n",
    "cv2.imshow(\"image2 - sliced green\", green_bw)\r\n",
    "cv2.waitKey(0)\r\n",
    "cv2.destroyAllWindows()"
   ],
   "outputs": [],
   "metadata": {}
  },
  {
   "cell_type": "code",
   "execution_count": 26,
   "source": [
    "ret, thresh = cv2.threshold(green_bw, 10, 255, cv2.THRESH_BINARY)\r\n",
    "thresh"
   ],
   "outputs": [
    {
     "output_type": "execute_result",
     "data": {
      "text/plain": [
       "array([[0, 0, 0, ..., 0, 0, 0],\n",
       "       [0, 0, 0, ..., 0, 0, 0],\n",
       "       [0, 0, 0, ..., 0, 0, 0],\n",
       "       ...,\n",
       "       [0, 0, 0, ..., 0, 0, 0],\n",
       "       [0, 0, 0, ..., 0, 0, 0],\n",
       "       [0, 0, 0, ..., 0, 0, 0]], dtype=uint8)"
      ]
     },
     "metadata": {},
     "execution_count": 26
    }
   ],
   "metadata": {}
  },
  {
   "cell_type": "code",
   "execution_count": 27,
   "source": [
    "cv2.imshow(\"image2 - sliced green\", thresh)\r\n",
    "cv2.waitKey(0)\r\n",
    "cv2.destroyAllWindows()"
   ],
   "outputs": [],
   "metadata": {}
  },
  {
   "cell_type": "code",
   "execution_count": 28,
   "source": [
    "nb_nonzero_pixels = np.count_nonzero(thresh)\r\n"
   ],
   "outputs": [
    {
     "output_type": "execute_result",
     "data": {
      "text/plain": [
       "1259596"
      ]
     },
     "metadata": {},
     "execution_count": 28
    }
   ],
   "metadata": {}
  },
  {
   "cell_type": "code",
   "execution_count": 29,
   "source": [
    "green_ratio = nb_nonzero_pixels / (thresh.shape[0] * thresh.shape[1])"
   ],
   "outputs": [],
   "metadata": {}
  },
  {
   "cell_type": "code",
   "execution_count": 31,
   "source": [
    "green_ratio * 100"
   ],
   "outputs": [
    {
     "output_type": "execute_result",
     "data": {
      "text/plain": [
       "60.744405864197525"
      ]
     },
     "metadata": {},
     "execution_count": 31
    }
   ],
   "metadata": {}
  },
  {
   "cell_type": "code",
   "execution_count": 35,
   "source": [
    "# try with a first image\r\n",
    "image_path = r\"E:\\Projects\\nasa_space_challenge\\data\\drone_videos_mrhabib\\images\\image2.png\"\r\n",
    "\r\n",
    "# read the image\r\n",
    "img = cv2.imread(image_path)\r\n",
    "\r\n",
    "# convert to hsv\r\n",
    "hsv = cv2.cvtColor(img, cv2.COLOR_BGR2HSV)\r\n",
    "\r\n",
    "# mask of green (36,25,25) ~ (86, 255,255)\r\n",
    "# mask = cv2.inRange(hsv, (36, 25, 25), (86, 255,255))\r\n",
    "mask = cv2.inRange(hsv, (36, 25, 25), (70, 255, 255))\r\n",
    "\r\n",
    "# slice the green\r\n",
    "imask = mask > 0\r\n",
    "green = np.zeros_like(img, np.uint8)\r\n",
    "green[imask] = img[imask]\r\n",
    "cv2.imwrite(r\"E:\\Projects\\nasa_space_challenge\\data\\drone_videos_mrhabib\\images\\transformed\\image2_green.png\", green)\r\n",
    "\r\n",
    "# convert green image to black and white\r\n",
    "green_bw = cv2.cvtColor(green, cv2.COLOR_BGR2GRAY)\r\n",
    "\r\n",
    "# threshold to binarise\r\n",
    "ret, thresh = cv2.threshold(green_bw, 10, 255, cv2.THRESH_BINARY)\r\n",
    "cv2.imwrite(r\"E:\\Projects\\nasa_space_challenge\\data\\drone_videos_mrhabib\\images\\transformed\\image2_thresh.png\", thresh)\r\n",
    "\r\n",
    "# compute number of non-zero pixels\r\n",
    "nb_nonzero_pixels = np.count_nonzero(thresh)\r\n",
    "# number of pixels in the image\r\n",
    "nb_pixels = thresh.shape[0] * thresh.shape[1]\r\n",
    "\r\n",
    "# compute green_ratio\r\n",
    "green_ratio = nb_nonzero_pixels / nb_pixels * 100\r\n",
    "\r\n",
    "print(\"Green ratio in this image is: \", green_ratio, \"%\")"
   ],
   "outputs": [
    {
     "output_type": "stream",
     "name": "stdout",
     "text": [
      "Green ratio in this image is:  60.744405864197525 %\n"
     ]
    }
   ],
   "metadata": {}
  },
  {
   "cell_type": "code",
   "execution_count": null,
   "source": [],
   "outputs": [],
   "metadata": {}
  }
 ],
 "metadata": {
  "orig_nbformat": 4,
  "language_info": {
   "name": "python",
   "version": "3.8.8",
   "mimetype": "text/x-python",
   "codemirror_mode": {
    "name": "ipython",
    "version": 3
   },
   "pygments_lexer": "ipython3",
   "nbconvert_exporter": "python",
   "file_extension": ".py"
  },
  "kernelspec": {
   "name": "python3",
   "display_name": "Python 3.8.8 64-bit ('GlobalEnv': conda)"
  },
  "interpreter": {
   "hash": "e47dac0fb6b7419af5e688a22122472415204d31f4d747337b5571cd7c4c8a47"
  }
 },
 "nbformat": 4,
 "nbformat_minor": 2
}